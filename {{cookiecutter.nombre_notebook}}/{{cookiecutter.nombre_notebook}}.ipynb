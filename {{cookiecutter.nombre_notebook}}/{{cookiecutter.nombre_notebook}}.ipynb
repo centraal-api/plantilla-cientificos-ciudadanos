{
 "cells": [
  {
   "cell_type": "code",
   "execution_count": null,
   "metadata": {},
   "outputs": [],
   "source": [
    "# instalación de la libreria\n",
    "%pip install azure-datalake-utils"
   ]
  },
  {
   "cell_type": "markdown",
   "metadata": {},
   "source": [
    "# {{cookiecutter.nombre_notebook}}\n",
    "\n",
    "Autora/Autor: {{cookiecutter.nombre_autor}}\n",
    "Correo: {{cookiecutter.correo_electronico}}\n",
    "\n",
    "{{cookiecutter.descripcion_corta_notebook}}\n",
    "\n",
    "El notebook tiene las siguiente secciones, estas son una sugerencia para mantener organizados todos los proyectos.\n",
    "\n",
    "Contenido\n",
    "\n",
    "1. [Lectura de archivos desde el datalake](#lectura-archivos-datalake).\n",
    "2. [Exploración de datos](#exploración-de-datos).\n",
    "3. [Transformación de datos](#transformacion-de-datos) (incluyendo escritura hacia el datalake).\n",
    "4. [Entrenamiento y validación de modelos](#entrenamiento-validacion-modelos).\n",
    "5. [Generación de predicciones](#generacion-de-predicciones).\n"
   ]
  },
  {
   "cell_type": "markdown",
   "metadata": {},
   "source": [
    "## Lectura de archivos desde el datalake <a name=\"lectura-archivos-datalake\"></a>"
   ]
  },
  {
   "cell_type": "code",
   "execution_count": null,
   "metadata": {},
   "outputs": [],
   "source": []
  },
  {
   "cell_type": "markdown",
   "metadata": {},
   "source": [
    "## Exploración de datos"
   ]
  },
  {
   "cell_type": "code",
   "execution_count": null,
   "metadata": {},
   "outputs": [],
   "source": []
  },
  {
   "cell_type": "markdown",
   "metadata": {},
   "source": [
    "## Transformación de datos <a name=\"transformacion-de-datos\"></a>"
   ]
  },
  {
   "cell_type": "code",
   "execution_count": null,
   "metadata": {},
   "outputs": [],
   "source": []
  },
  {
   "cell_type": "markdown",
   "metadata": {},
   "source": [
    "## Entrenamiento y validación de modelos <a name=\"entrenamiento-validacion-modelos\"></a>"
   ]
  },
  {
   "cell_type": "code",
   "execution_count": null,
   "metadata": {},
   "outputs": [],
   "source": []
  },
  {
   "cell_type": "markdown",
   "metadata": {},
   "source": [
    "## Generación de predicciones <a name=\"generacion-de-predicciones\"></a>"
   ]
  },
  {
   "cell_type": "code",
   "execution_count": null,
   "metadata": {},
   "outputs": [],
   "source": []
  }
 ],
 "metadata": {
  "kernelspec": {
   "display_name": "Python 3.10.7 64-bit (microsoft store)",
   "language": "python",
   "name": "python3"
  },
  "language_info": {
   "name": "python",
   "version": "3.10.7"
  },
  "orig_nbformat": 4,
  "vscode": {
   "interpreter": {
    "hash": "8d71591dd1cda570d3953d45d050808dce0d2d6567f6d21337d68eb054b6dc24"
   }
  }
 },
 "nbformat": 4,
 "nbformat_minor": 2
}
